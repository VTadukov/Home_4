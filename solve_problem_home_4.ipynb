{
 "cells": [
  {
   "cell_type": "markdown",
   "metadata": {},
   "source": [
    "# Solve problem 1"
   ]
  },
  {
   "cell_type": "code",
   "execution_count": 35,
   "metadata": {},
   "outputs": [],
   "source": [
    "documents = [\n",
    "             {'type': 'passport', 'number': '2207 876234', 'name': 'Василий Гупкин'},\n",
    "             {'type': 'invoice', 'number': '11-2', 'name': 'Геннадий Покемонов'},\n",
    "             {'type': 'insurance', 'number': '10006', 'name': 'Аристарх Павлов'}\n",
    "            ]\n",
    "\n",
    "directories = {\n",
    "               '1': ['2207 876234', '11-2'],\n",
    "               '2': ['10006'],\n",
    "               '3': []\n",
    "              }"
   ]
  },
  {
   "cell_type": "code",
   "execution_count": 23,
   "metadata": {},
   "outputs": [
    {
     "name": "stdout",
     "output_type": "stream",
     "text": [
      "Введите команду: p\n",
      "Введите номер документа: 10006\n",
      "Владелец документа: Аристарх Павлов\n"
     ]
    }
   ],
   "source": [
    "#Пункт 1. Пользователь по команде \"p\" может узнать владельца документа по его номеру\n",
    "\n",
    "user_input = input('Введите команду: ')\n",
    "def doc(documents):\n",
    "    if user_input == 'p':\n",
    "        num_input = input('Введите номер документа: ')\n",
    "        for docs in documents:\n",
    "            if docs['number'] == num_input:\n",
    "                result = print('Владелец документа: ' + docs['name'])\n",
    "                return result\n",
    "    print('Документ не найден в базе')\n",
    "doc(documents)"
   ]
  },
  {
   "cell_type": "code",
   "execution_count": 47,
   "metadata": {},
   "outputs": [
    {
     "name": "stdout",
     "output_type": "stream",
     "text": [
      "Введите команду: s\n",
      "Введите номер документа: 2207 876234\n",
      "Документ хранится на полке: 1\n"
     ]
    }
   ],
   "source": [
    "#Пункт 2. Пользователь по команде \"s\" может по номеру документа узнать на какой полке он хранится\n",
    "\n",
    "user_input = input('Введите команду: ')\n",
    "def doc(directories):\n",
    "    if user_input == 's':\n",
    "        num_input = input('Введите номер документа: ')\n",
    "        for key in directories:\n",
    "            if num_input in directories[key]:\n",
    "                result = print('Документ хранится на полке: ' + key)\n",
    "                return result\n",
    "    print('Документ не найден в базе')\n",
    "doc(directories)"
   ]
  },
  {
   "cell_type": "code",
   "execution_count": 56,
   "metadata": {},
   "outputs": [
    {
     "name": "stdout",
     "output_type": "stream",
     "text": [
      "Введите команду: l\n",
      "Результат:\n",
      "№: 2207 876234, тип: passport, владелец: Василий Гупкин, полка хранения: 1\n",
      "№: 11-2, тип: invoice, владелец: Геннадий Покемонов, полка хранения: 1\n",
      "№: 10006, тип: insurance, владелец: Аристарх Павлов, полка хранения: 2\n"
     ]
    }
   ],
   "source": [
    "#Пункт 3. Пользователь по команде \"l\" может увидеть полную информацию по всем документам\n",
    "\n",
    "user_input = input('Введите команду: ')\n",
    "def doc():\n",
    "    if user_input == 'l':\n",
    "        print('Результат:')\n",
    "        result = []\n",
    "        for docs in documents:\n",
    "            for key in directories:\n",
    "                if docs['number'] in directories[key]:\n",
    "                    result = print('№: ' + docs['number']+',' \n",
    "                                 + ' ' 'тип: ' \n",
    "                                 + docs['type']+',' \n",
    "                                 + ' ' 'владелец: '\n",
    "                                 + docs['name']+',' \n",
    "                                 + ' ' 'полка хранения: '\n",
    "                                 + key)\n",
    "        return result\n",
    "doc()"
   ]
  },
  {
   "cell_type": "code",
   "execution_count": 170,
   "metadata": {},
   "outputs": [
    {
     "name": "stdout",
     "output_type": "stream",
     "text": [
      "Введите команду: ads\n",
      "Введите номер полки: 10\n",
      "Полка добавлена. Текущий перечень полок:  10\n"
     ]
    }
   ],
   "source": [
    "#Пункт 4. Пользователь по команде \"ads\" может добавить новую полку\n",
    "\n",
    "user_input = input('Введите команду: ')\n",
    "def doc(directories):\n",
    "    if user_input == 'ads':\n",
    "        num_input = input('Введите номер полки: ')\n",
    "        for key in directories:\n",
    "            if num_input not in directories[key]:\n",
    "                directories[num_input] = []\n",
    "                \n",
    "                \"\"\"Олег, тут я завис, не пойму как прописать условие, нужна подсказка :) \"\"\"\n",
    "                \n",
    "                result = print('Полка добавлена. Текущий перечень полок: ',num_input)\n",
    "                return result\n",
    "            else: \n",
    "                return print('Такая полка уже существует. Текущий перечень полок:', directories)\n",
    "doc(directories)"
   ]
  }
 ],
 "metadata": {
  "kernelspec": {
   "display_name": "Python 3",
   "language": "python",
   "name": "python3"
  },
  "language_info": {
   "codemirror_mode": {
    "name": "ipython",
    "version": 3
   },
   "file_extension": ".py",
   "mimetype": "text/x-python",
   "name": "python",
   "nbconvert_exporter": "python",
   "pygments_lexer": "ipython3",
   "version": "3.8.5"
  }
 },
 "nbformat": 4,
 "nbformat_minor": 4
}
